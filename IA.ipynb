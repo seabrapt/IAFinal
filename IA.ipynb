{
  "nbformat": 4,
  "nbformat_minor": 0,
  "metadata": {
    "colab": {
      "name": "IA.ipynb",
      "provenance": [],
      "collapsed_sections": []
    },
    "kernelspec": {
      "name": "python3",
      "display_name": "Python 3"
    },
    "language_info": {
      "name": "python"
    },
    "widgets": {
      "application/vnd.jupyter.widget-state+json": {
        "3af8d7254b0b40d0ab6c7b5a8c9487ff": {
          "model_module": "@jupyter-widgets/controls",
          "model_name": "HBoxModel",
          "model_module_version": "1.5.0",
          "state": {
            "_view_name": "HBoxView",
            "_dom_classes": [],
            "_model_name": "HBoxModel",
            "_view_module": "@jupyter-widgets/controls",
            "_model_module_version": "1.5.0",
            "_view_count": null,
            "_view_module_version": "1.5.0",
            "box_style": "",
            "layout": "IPY_MODEL_6432d57bf0924018a1ef3e06208042db",
            "_model_module": "@jupyter-widgets/controls",
            "children": [
              "IPY_MODEL_935a525e3fe64646b6d07dc66a20c003",
              "IPY_MODEL_b95c79589d334d46854d651ed3c93d30",
              "IPY_MODEL_4df6b1c96a6e41eb892bb8cf2097433e"
            ]
          }
        },
        "6432d57bf0924018a1ef3e06208042db": {
          "model_module": "@jupyter-widgets/base",
          "model_name": "LayoutModel",
          "model_module_version": "1.2.0",
          "state": {
            "_view_name": "LayoutView",
            "grid_template_rows": null,
            "right": null,
            "justify_content": null,
            "_view_module": "@jupyter-widgets/base",
            "overflow": null,
            "_model_module_version": "1.2.0",
            "_view_count": null,
            "flex_flow": null,
            "width": null,
            "min_width": null,
            "border": null,
            "align_items": null,
            "bottom": null,
            "_model_module": "@jupyter-widgets/base",
            "top": null,
            "grid_column": null,
            "overflow_y": null,
            "overflow_x": null,
            "grid_auto_flow": null,
            "grid_area": null,
            "grid_template_columns": null,
            "flex": null,
            "_model_name": "LayoutModel",
            "justify_items": null,
            "grid_row": null,
            "max_height": null,
            "align_content": null,
            "visibility": null,
            "align_self": null,
            "height": null,
            "min_height": null,
            "padding": null,
            "grid_auto_rows": null,
            "grid_gap": null,
            "max_width": null,
            "order": null,
            "_view_module_version": "1.2.0",
            "grid_template_areas": null,
            "object_position": null,
            "object_fit": null,
            "grid_auto_columns": null,
            "margin": null,
            "display": null,
            "left": null
          }
        },
        "935a525e3fe64646b6d07dc66a20c003": {
          "model_module": "@jupyter-widgets/controls",
          "model_name": "HTMLModel",
          "model_module_version": "1.5.0",
          "state": {
            "_view_name": "HTMLView",
            "style": "IPY_MODEL_c5651cc748f24fd49ab486387a61a715",
            "_dom_classes": [],
            "description": "",
            "_model_name": "HTMLModel",
            "placeholder": "​",
            "_view_module": "@jupyter-widgets/controls",
            "_model_module_version": "1.5.0",
            "value": "loss 0.24 accuracy 0.59 validation accuracy 0.62: 100%",
            "_view_count": null,
            "_view_module_version": "1.5.0",
            "description_tooltip": null,
            "_model_module": "@jupyter-widgets/controls",
            "layout": "IPY_MODEL_b3523688f05c44f395f20c1feb97b8c2"
          }
        },
        "b95c79589d334d46854d651ed3c93d30": {
          "model_module": "@jupyter-widgets/controls",
          "model_name": "FloatProgressModel",
          "model_module_version": "1.5.0",
          "state": {
            "_view_name": "ProgressView",
            "style": "IPY_MODEL_6fb011a856ae4794a57a00f5855a8d07",
            "_dom_classes": [],
            "description": "",
            "_model_name": "FloatProgressModel",
            "bar_style": "success",
            "max": 4,
            "_view_module": "@jupyter-widgets/controls",
            "_model_module_version": "1.5.0",
            "value": 4,
            "_view_count": null,
            "_view_module_version": "1.5.0",
            "orientation": "horizontal",
            "min": 0,
            "description_tooltip": null,
            "_model_module": "@jupyter-widgets/controls",
            "layout": "IPY_MODEL_a8914f4b026a47d6b53f6a745eadd3e4"
          }
        },
        "4df6b1c96a6e41eb892bb8cf2097433e": {
          "model_module": "@jupyter-widgets/controls",
          "model_name": "HTMLModel",
          "model_module_version": "1.5.0",
          "state": {
            "_view_name": "HTMLView",
            "style": "IPY_MODEL_b49a71b51a3e41adb78d2729d6354b01",
            "_dom_classes": [],
            "description": "",
            "_model_name": "HTMLModel",
            "placeholder": "​",
            "_view_module": "@jupyter-widgets/controls",
            "_model_module_version": "1.5.0",
            "value": " 4/4 [00:05&lt;00:00,  1.29s/it]",
            "_view_count": null,
            "_view_module_version": "1.5.0",
            "description_tooltip": null,
            "_model_module": "@jupyter-widgets/controls",
            "layout": "IPY_MODEL_147f54a2d44d49aca4a424dfb9bb9733"
          }
        },
        "c5651cc748f24fd49ab486387a61a715": {
          "model_module": "@jupyter-widgets/controls",
          "model_name": "DescriptionStyleModel",
          "model_module_version": "1.5.0",
          "state": {
            "_view_name": "StyleView",
            "_model_name": "DescriptionStyleModel",
            "description_width": "",
            "_view_module": "@jupyter-widgets/base",
            "_model_module_version": "1.5.0",
            "_view_count": null,
            "_view_module_version": "1.2.0",
            "_model_module": "@jupyter-widgets/controls"
          }
        },
        "b3523688f05c44f395f20c1feb97b8c2": {
          "model_module": "@jupyter-widgets/base",
          "model_name": "LayoutModel",
          "model_module_version": "1.2.0",
          "state": {
            "_view_name": "LayoutView",
            "grid_template_rows": null,
            "right": null,
            "justify_content": null,
            "_view_module": "@jupyter-widgets/base",
            "overflow": null,
            "_model_module_version": "1.2.0",
            "_view_count": null,
            "flex_flow": null,
            "width": null,
            "min_width": null,
            "border": null,
            "align_items": null,
            "bottom": null,
            "_model_module": "@jupyter-widgets/base",
            "top": null,
            "grid_column": null,
            "overflow_y": null,
            "overflow_x": null,
            "grid_auto_flow": null,
            "grid_area": null,
            "grid_template_columns": null,
            "flex": null,
            "_model_name": "LayoutModel",
            "justify_items": null,
            "grid_row": null,
            "max_height": null,
            "align_content": null,
            "visibility": null,
            "align_self": null,
            "height": null,
            "min_height": null,
            "padding": null,
            "grid_auto_rows": null,
            "grid_gap": null,
            "max_width": null,
            "order": null,
            "_view_module_version": "1.2.0",
            "grid_template_areas": null,
            "object_position": null,
            "object_fit": null,
            "grid_auto_columns": null,
            "margin": null,
            "display": null,
            "left": null
          }
        },
        "6fb011a856ae4794a57a00f5855a8d07": {
          "model_module": "@jupyter-widgets/controls",
          "model_name": "ProgressStyleModel",
          "model_module_version": "1.5.0",
          "state": {
            "_view_name": "StyleView",
            "_model_name": "ProgressStyleModel",
            "description_width": "",
            "_view_module": "@jupyter-widgets/base",
            "_model_module_version": "1.5.0",
            "_view_count": null,
            "_view_module_version": "1.2.0",
            "bar_color": null,
            "_model_module": "@jupyter-widgets/controls"
          }
        },
        "a8914f4b026a47d6b53f6a745eadd3e4": {
          "model_module": "@jupyter-widgets/base",
          "model_name": "LayoutModel",
          "model_module_version": "1.2.0",
          "state": {
            "_view_name": "LayoutView",
            "grid_template_rows": null,
            "right": null,
            "justify_content": null,
            "_view_module": "@jupyter-widgets/base",
            "overflow": null,
            "_model_module_version": "1.2.0",
            "_view_count": null,
            "flex_flow": null,
            "width": null,
            "min_width": null,
            "border": null,
            "align_items": null,
            "bottom": null,
            "_model_module": "@jupyter-widgets/base",
            "top": null,
            "grid_column": null,
            "overflow_y": null,
            "overflow_x": null,
            "grid_auto_flow": null,
            "grid_area": null,
            "grid_template_columns": null,
            "flex": null,
            "_model_name": "LayoutModel",
            "justify_items": null,
            "grid_row": null,
            "max_height": null,
            "align_content": null,
            "visibility": null,
            "align_self": null,
            "height": null,
            "min_height": null,
            "padding": null,
            "grid_auto_rows": null,
            "grid_gap": null,
            "max_width": null,
            "order": null,
            "_view_module_version": "1.2.0",
            "grid_template_areas": null,
            "object_position": null,
            "object_fit": null,
            "grid_auto_columns": null,
            "margin": null,
            "display": null,
            "left": null
          }
        },
        "b49a71b51a3e41adb78d2729d6354b01": {
          "model_module": "@jupyter-widgets/controls",
          "model_name": "DescriptionStyleModel",
          "model_module_version": "1.5.0",
          "state": {
            "_view_name": "StyleView",
            "_model_name": "DescriptionStyleModel",
            "description_width": "",
            "_view_module": "@jupyter-widgets/base",
            "_model_module_version": "1.5.0",
            "_view_count": null,
            "_view_module_version": "1.2.0",
            "_model_module": "@jupyter-widgets/controls"
          }
        },
        "147f54a2d44d49aca4a424dfb9bb9733": {
          "model_module": "@jupyter-widgets/base",
          "model_name": "LayoutModel",
          "model_module_version": "1.2.0",
          "state": {
            "_view_name": "LayoutView",
            "grid_template_rows": null,
            "right": null,
            "justify_content": null,
            "_view_module": "@jupyter-widgets/base",
            "overflow": null,
            "_model_module_version": "1.2.0",
            "_view_count": null,
            "flex_flow": null,
            "width": null,
            "min_width": null,
            "border": null,
            "align_items": null,
            "bottom": null,
            "_model_module": "@jupyter-widgets/base",
            "top": null,
            "grid_column": null,
            "overflow_y": null,
            "overflow_x": null,
            "grid_auto_flow": null,
            "grid_area": null,
            "grid_template_columns": null,
            "flex": null,
            "_model_name": "LayoutModel",
            "justify_items": null,
            "grid_row": null,
            "max_height": null,
            "align_content": null,
            "visibility": null,
            "align_self": null,
            "height": null,
            "min_height": null,
            "padding": null,
            "grid_auto_rows": null,
            "grid_gap": null,
            "max_width": null,
            "order": null,
            "_view_module_version": "1.2.0",
            "grid_template_areas": null,
            "object_position": null,
            "object_fit": null,
            "grid_auto_columns": null,
            "margin": null,
            "display": null,
            "left": null
          }
        },
        "60ea713fef244f9ba43033d1bd50aabe": {
          "model_module": "@jupyter-widgets/controls",
          "model_name": "HBoxModel",
          "model_module_version": "1.5.0",
          "state": {
            "_view_name": "HBoxView",
            "_dom_classes": [],
            "_model_name": "HBoxModel",
            "_view_module": "@jupyter-widgets/controls",
            "_model_module_version": "1.5.0",
            "_view_count": null,
            "_view_module_version": "1.5.0",
            "box_style": "",
            "layout": "IPY_MODEL_2af3064e08234a91a6de96b676807f74",
            "_model_module": "@jupyter-widgets/controls",
            "children": [
              "IPY_MODEL_fe8a26d7ca5148c4a4f4dcfa564dcf06",
              "IPY_MODEL_60b23d9cd6a544bca3232d2b081b8266",
              "IPY_MODEL_89f431da6af54d54bb0261268364c0d8"
            ]
          }
        },
        "2af3064e08234a91a6de96b676807f74": {
          "model_module": "@jupyter-widgets/base",
          "model_name": "LayoutModel",
          "model_module_version": "1.2.0",
          "state": {
            "_view_name": "LayoutView",
            "grid_template_rows": null,
            "right": null,
            "justify_content": null,
            "_view_module": "@jupyter-widgets/base",
            "overflow": null,
            "_model_module_version": "1.2.0",
            "_view_count": null,
            "flex_flow": null,
            "width": null,
            "min_width": null,
            "border": null,
            "align_items": null,
            "bottom": null,
            "_model_module": "@jupyter-widgets/base",
            "top": null,
            "grid_column": null,
            "overflow_y": null,
            "overflow_x": null,
            "grid_auto_flow": null,
            "grid_area": null,
            "grid_template_columns": null,
            "flex": null,
            "_model_name": "LayoutModel",
            "justify_items": null,
            "grid_row": null,
            "max_height": null,
            "align_content": null,
            "visibility": null,
            "align_self": null,
            "height": null,
            "min_height": null,
            "padding": null,
            "grid_auto_rows": null,
            "grid_gap": null,
            "max_width": null,
            "order": null,
            "_view_module_version": "1.2.0",
            "grid_template_areas": null,
            "object_position": null,
            "object_fit": null,
            "grid_auto_columns": null,
            "margin": null,
            "display": null,
            "left": null
          }
        },
        "fe8a26d7ca5148c4a4f4dcfa564dcf06": {
          "model_module": "@jupyter-widgets/controls",
          "model_name": "HTMLModel",
          "model_module_version": "1.5.0",
          "state": {
            "_view_name": "HTMLView",
            "style": "IPY_MODEL_d2db58e34adf4465b18cd74ada6b313d",
            "_dom_classes": [],
            "description": "",
            "_model_name": "HTMLModel",
            "placeholder": "​",
            "_view_module": "@jupyter-widgets/controls",
            "_model_module_version": "1.5.0",
            "value": "100%",
            "_view_count": null,
            "_view_module_version": "1.5.0",
            "description_tooltip": null,
            "_model_module": "@jupyter-widgets/controls",
            "layout": "IPY_MODEL_6f21aecd7972499c85142d9133b83259"
          }
        },
        "60b23d9cd6a544bca3232d2b081b8266": {
          "model_module": "@jupyter-widgets/controls",
          "model_name": "FloatProgressModel",
          "model_module_version": "1.5.0",
          "state": {
            "_view_name": "ProgressView",
            "style": "IPY_MODEL_cd12114d2fb6486fbb1b0648c9aabddc",
            "_dom_classes": [],
            "description": "",
            "_model_name": "FloatProgressModel",
            "bar_style": "success",
            "max": 1000,
            "_view_module": "@jupyter-widgets/controls",
            "_model_module_version": "1.5.0",
            "value": 1000,
            "_view_count": null,
            "_view_module_version": "1.5.0",
            "orientation": "horizontal",
            "min": 0,
            "description_tooltip": null,
            "_model_module": "@jupyter-widgets/controls",
            "layout": "IPY_MODEL_123c61609f754e1094b730a626e4c58b"
          }
        },
        "89f431da6af54d54bb0261268364c0d8": {
          "model_module": "@jupyter-widgets/controls",
          "model_name": "HTMLModel",
          "model_module_version": "1.5.0",
          "state": {
            "_view_name": "HTMLView",
            "style": "IPY_MODEL_7c085c48674f4662bde0a6033fdc9faa",
            "_dom_classes": [],
            "description": "",
            "_model_name": "HTMLModel",
            "placeholder": "​",
            "_view_module": "@jupyter-widgets/controls",
            "_model_module_version": "1.5.0",
            "value": " 1000/1000 [00:01&lt;00:00, 807.45it/s]",
            "_view_count": null,
            "_view_module_version": "1.5.0",
            "description_tooltip": null,
            "_model_module": "@jupyter-widgets/controls",
            "layout": "IPY_MODEL_6c61d40fd377410e90451b3400328bc6"
          }
        },
        "d2db58e34adf4465b18cd74ada6b313d": {
          "model_module": "@jupyter-widgets/controls",
          "model_name": "DescriptionStyleModel",
          "model_module_version": "1.5.0",
          "state": {
            "_view_name": "StyleView",
            "_model_name": "DescriptionStyleModel",
            "description_width": "",
            "_view_module": "@jupyter-widgets/base",
            "_model_module_version": "1.5.0",
            "_view_count": null,
            "_view_module_version": "1.2.0",
            "_model_module": "@jupyter-widgets/controls"
          }
        },
        "6f21aecd7972499c85142d9133b83259": {
          "model_module": "@jupyter-widgets/base",
          "model_name": "LayoutModel",
          "model_module_version": "1.2.0",
          "state": {
            "_view_name": "LayoutView",
            "grid_template_rows": null,
            "right": null,
            "justify_content": null,
            "_view_module": "@jupyter-widgets/base",
            "overflow": null,
            "_model_module_version": "1.2.0",
            "_view_count": null,
            "flex_flow": null,
            "width": null,
            "min_width": null,
            "border": null,
            "align_items": null,
            "bottom": null,
            "_model_module": "@jupyter-widgets/base",
            "top": null,
            "grid_column": null,
            "overflow_y": null,
            "overflow_x": null,
            "grid_auto_flow": null,
            "grid_area": null,
            "grid_template_columns": null,
            "flex": null,
            "_model_name": "LayoutModel",
            "justify_items": null,
            "grid_row": null,
            "max_height": null,
            "align_content": null,
            "visibility": null,
            "align_self": null,
            "height": null,
            "min_height": null,
            "padding": null,
            "grid_auto_rows": null,
            "grid_gap": null,
            "max_width": null,
            "order": null,
            "_view_module_version": "1.2.0",
            "grid_template_areas": null,
            "object_position": null,
            "object_fit": null,
            "grid_auto_columns": null,
            "margin": null,
            "display": null,
            "left": null
          }
        },
        "cd12114d2fb6486fbb1b0648c9aabddc": {
          "model_module": "@jupyter-widgets/controls",
          "model_name": "ProgressStyleModel",
          "model_module_version": "1.5.0",
          "state": {
            "_view_name": "StyleView",
            "_model_name": "ProgressStyleModel",
            "description_width": "",
            "_view_module": "@jupyter-widgets/base",
            "_model_module_version": "1.5.0",
            "_view_count": null,
            "_view_module_version": "1.2.0",
            "bar_color": null,
            "_model_module": "@jupyter-widgets/controls"
          }
        },
        "123c61609f754e1094b730a626e4c58b": {
          "model_module": "@jupyter-widgets/base",
          "model_name": "LayoutModel",
          "model_module_version": "1.2.0",
          "state": {
            "_view_name": "LayoutView",
            "grid_template_rows": null,
            "right": null,
            "justify_content": null,
            "_view_module": "@jupyter-widgets/base",
            "overflow": null,
            "_model_module_version": "1.2.0",
            "_view_count": null,
            "flex_flow": null,
            "width": null,
            "min_width": null,
            "border": null,
            "align_items": null,
            "bottom": null,
            "_model_module": "@jupyter-widgets/base",
            "top": null,
            "grid_column": null,
            "overflow_y": null,
            "overflow_x": null,
            "grid_auto_flow": null,
            "grid_area": null,
            "grid_template_columns": null,
            "flex": null,
            "_model_name": "LayoutModel",
            "justify_items": null,
            "grid_row": null,
            "max_height": null,
            "align_content": null,
            "visibility": null,
            "align_self": null,
            "height": null,
            "min_height": null,
            "padding": null,
            "grid_auto_rows": null,
            "grid_gap": null,
            "max_width": null,
            "order": null,
            "_view_module_version": "1.2.0",
            "grid_template_areas": null,
            "object_position": null,
            "object_fit": null,
            "grid_auto_columns": null,
            "margin": null,
            "display": null,
            "left": null
          }
        },
        "7c085c48674f4662bde0a6033fdc9faa": {
          "model_module": "@jupyter-widgets/controls",
          "model_name": "DescriptionStyleModel",
          "model_module_version": "1.5.0",
          "state": {
            "_view_name": "StyleView",
            "_model_name": "DescriptionStyleModel",
            "description_width": "",
            "_view_module": "@jupyter-widgets/base",
            "_model_module_version": "1.5.0",
            "_view_count": null,
            "_view_module_version": "1.2.0",
            "_model_module": "@jupyter-widgets/controls"
          }
        },
        "6c61d40fd377410e90451b3400328bc6": {
          "model_module": "@jupyter-widgets/base",
          "model_name": "LayoutModel",
          "model_module_version": "1.2.0",
          "state": {
            "_view_name": "LayoutView",
            "grid_template_rows": null,
            "right": null,
            "justify_content": null,
            "_view_module": "@jupyter-widgets/base",
            "overflow": null,
            "_model_module_version": "1.2.0",
            "_view_count": null,
            "flex_flow": null,
            "width": null,
            "min_width": null,
            "border": null,
            "align_items": null,
            "bottom": null,
            "_model_module": "@jupyter-widgets/base",
            "top": null,
            "grid_column": null,
            "overflow_y": null,
            "overflow_x": null,
            "grid_auto_flow": null,
            "grid_area": null,
            "grid_template_columns": null,
            "flex": null,
            "_model_name": "LayoutModel",
            "justify_items": null,
            "grid_row": null,
            "max_height": null,
            "align_content": null,
            "visibility": null,
            "align_self": null,
            "height": null,
            "min_height": null,
            "padding": null,
            "grid_auto_rows": null,
            "grid_gap": null,
            "max_width": null,
            "order": null,
            "_view_module_version": "1.2.0",
            "grid_template_areas": null,
            "object_position": null,
            "object_fit": null,
            "grid_auto_columns": null,
            "margin": null,
            "display": null,
            "left": null
          }
        }
      }
    }
  },
  "cells": [
    {
      "cell_type": "markdown",
      "metadata": {
        "id": "HiHqjZrAa-op"
      },
      "source": [
        "# **Machine Specs**"
      ]
    },
    {
      "cell_type": "code",
      "metadata": {
        "id": "sccHVeukbJ73",
        "colab": {
          "base_uri": "https://localhost:8080/"
        },
        "outputId": "be4ff8ea-3c40-4663-f08c-55c7d361596d"
      },
      "source": [
        "# specs\n",
        "!df -h\n",
        "!free -h --si | awk  '/Mem:/{print $2}'\n",
        "!lscpu |grep 'Model name'\n",
        "!nvidia-smi"
      ],
      "execution_count": null,
      "outputs": [
        {
          "output_type": "stream",
          "name": "stdout",
          "text": [
            "Filesystem      Size  Used Avail Use% Mounted on\n",
            "overlay         108G   42G   66G  39% /\n",
            "tmpfs            64M     0   64M   0% /dev\n",
            "shm             5.8G     0  5.8G   0% /dev/shm\n",
            "/dev/root       2.0G  1.2G  821M  59% /sbin/docker-init\n",
            "tmpfs           6.4G   36K  6.4G   1% /var/colab\n",
            "/dev/sda1        81G   46G   36G  57% /etc/hosts\n",
            "tmpfs           6.4G     0  6.4G   0% /proc/acpi\n",
            "tmpfs           6.4G     0  6.4G   0% /proc/scsi\n",
            "tmpfs           6.4G     0  6.4G   0% /sys/firmware\n",
            "13G\n",
            "Model name:          Intel(R) Xeon(R) CPU @ 2.20GHz\n",
            "NVIDIA-SMI has failed because it couldn't communicate with the NVIDIA driver. Make sure that the latest NVIDIA driver is installed and running.\n",
            "\n"
          ]
        }
      ]
    },
    {
      "cell_type": "markdown",
      "metadata": {
        "id": "-_l3p2RU6IoT"
      },
      "source": [
        "# **Imports and Loads**\n",
        "\n"
      ]
    },
    {
      "cell_type": "code",
      "metadata": {
        "id": "UX6yPZMX4Mdz"
      },
      "source": [
        "import pandas as pd\n",
        "import numpy as np\n",
        "import torch\n",
        "pd.set_option('display.max_columns', None)\n",
        "\n",
        "from sklearn.model_selection import train_test_split    # train test split dataset\n",
        "from sklearn.tree import DecisionTreeClassifier         # Decision tree classifier\n",
        "from sklearn.tree import export_text                    # Print decision tree\n",
        "from sklearn.metrics import confusion_matrix            # Confusion matrix\n",
        "import matplotlib.pyplot as plt                         # plot accuracy\n",
        "\n",
        "# load object\n",
        "obj = pd.read_csv(\"train_dataset.csv\")\n",
        "val_test_obj = pd.read_csv(\"val_test_dataset.csv\")\n"
      ],
      "execution_count": null,
      "outputs": []
    },
    {
      "cell_type": "markdown",
      "metadata": {
        "id": "jnP83L7fhqKt"
      },
      "source": [
        "# **Accuracy Precision Recall F1-score** \n"
      ]
    },
    {
      "cell_type": "code",
      "metadata": {
        "id": "pQFqB2i1hpp5"
      },
      "source": [
        "from sklearn.metrics import precision_score,accuracy_score,f1_score,recall_score\n",
        "def calc_metrics(preds,target):\n",
        "\n",
        "  accuracy = accuracy_score(target,preds)\n",
        "  precision = precision_score(target,preds,average = \"binary\")\n",
        "  recall = recall_score(target,preds,average = \"binary\")\n",
        "  f1 = f1_score(target,preds,average = \"binary\")\n",
        "  \n",
        "  return [accuracy,precision,recall,f1]\n",
        "\n"
      ],
      "execution_count": null,
      "outputs": []
    },
    {
      "cell_type": "markdown",
      "metadata": {
        "id": "3_g7NYJ1-_-p"
      },
      "source": [
        "# **Binnary Tree**\n",
        "### **Accuracy 60~70%  Precision Recall F1**\n",
        "\n",
        "Binnary Tree\n",
        "Accuracy 60~70% Precision Recall F1\n",
        "\n",
        "### EXTRA TREES \n",
        "- **ACCURACY PRECISION RECALL F1**<br>\n",
        "  - Metrics Normal [0.68, 0.69, 0.67, 0.68]<br>\n",
        "  - Metrics Concat [0.69, 0.72, 0.70, 0.71]<br>\n",
        "\n",
        "###  DECISION TREES\n",
        "- **ACCURACY PRECISION RECALL F1**<br>\n",
        "  - Metrics Normal [0.67, 0.68, 0.62, 0.65]<br>\n",
        "  - Metrics Concat [0.65, 0.68, 0.66, 0.67]<br>\n",
        "\n",
        "## **Best Scores: Extra Tree Classifier**\n",
        " - Accuracy:  0.69 <br>\n",
        " - Precision: 0.72 <br>\n",
        " - Recall:    0.70 <br>\n",
        " - F1-Score:  0.71\n"
      ]
    },
    {
      "cell_type": "code",
      "metadata": {
        "id": "v4Go8wpA4s_X"
      },
      "source": [
        "# drop NaN's\n",
        "X = obj.replace([np.inf, -np.inf], np.nan).dropna()\n",
        "\n",
        "# getting target and X\n",
        "T = X[\"Saved\"]\n",
        "X = X.drop(\"Saved\",axis = 1)\n",
        "X = X.drop(\"ResponseID\",axis = 1)\n",
        "\n",
        "# getting train and test sets\n",
        "X_train,X_test,y_train,y_test = train_test_split(X,T,test_size = 0.3)"
      ],
      "execution_count": null,
      "outputs": []
    },
    {
      "cell_type": "code",
      "metadata": {
        "id": "YWXqq-tQVrXU"
      },
      "source": [
        "X = obj.replace([np.inf, -np.inf], np.nan).dropna()\n",
        "X = X.drop(\"ResponseID\",axis = 1)\n",
        "X_left, X_right = X.iloc[::2, :],X.iloc[1::2, :]  # X split into 2 x's\n",
        "\n",
        "# pop and remove saved and unnnamed  from x_left\n",
        "T_left = X_left[\"Saved\"].tolist()\n",
        "X_left = X_left.drop(\"Saved\",axis = 1)\n",
        "\n",
        "# pop and remove saved  and unnamed from x_right\n",
        "T_right = X_right[\"Saved\"].tolist()\n",
        "X_right = X_right.drop(\"Saved\",axis = 1)\n",
        "\n",
        "# combine Target for corresponding 2 images\n",
        "T_combined = [ 0 if [T_left[i],T_right[i]] == [0,1] else 1 for i in range(len(T_left)) ]\n",
        "\n",
        "# data\n",
        "Y_train = np.array(T_combined)\n",
        "X_right = X_right.to_numpy()\n",
        "X_left = X_left.to_numpy()\n",
        "\n",
        "X = np.concatenate((X_left,X_right),axis=1)\n",
        "\n",
        "# getting train and test sets\n",
        "X_train1,X_test1,y_train1,y_test1 = train_test_split(X,T_combined,test_size = 0.3)"
      ],
      "execution_count": null,
      "outputs": []
    },
    {
      "cell_type": "code",
      "metadata": {
        "id": "m3KzQm-C4xa3",
        "colab": {
          "base_uri": "https://localhost:8080/"
        },
        "outputId": "905f0a57-5d3c-4940-82dc-16a26471f7ab"
      },
      "source": [
        "from sklearn.ensemble import ExtraTreesClassifier\n",
        "\n",
        "# create model\n",
        "cf = ExtraTreesClassifier()\n",
        "cf2 = ExtraTreesClassifier()\n",
        "\n",
        "df = DecisionTreeClassifier()\n",
        "df2 = DecisionTreeClassifier()\n",
        "\n",
        "#fit extra trees\n",
        "cf.fit(X_train,y_train)\n",
        "cf2.fit(X_train1,y_train1)\n",
        "\n",
        "# fit decision trees\n",
        "df.fit(X_train,y_train)\n",
        "df2.fit(X_train1,y_train1)\n",
        "\n",
        "\n",
        "# results\n",
        "results = cf.predict(X_test)\n",
        "results2 = cf2.predict(X_test1)\n",
        "\n",
        "metrics = calc_metrics(results,y_test)\n",
        "metrics2 = calc_metrics(results2,y_test1)\n",
        "\n",
        "print(\"- -  EXTRA TREES - - \")\n",
        "print(\"ACCURACY PRECISION RECALL F1\")\n",
        "print(\"Metrics Normal\",metrics)\n",
        "print(\"Metrics Concat\",metrics2)\n",
        "\n",
        "# results decision trees\n",
        "results = df.predict(X_test)\n",
        "results2 = df2.predict(X_test1)\n",
        "\n",
        "metrics = calc_metrics(results,y_test)\n",
        "metrics2 = calc_metrics(results2,y_test1)\n",
        "print(\"\\n- -  DECISION TREES - - \")\n",
        "print(\"ACCURACY PRECISION RECALL F1\")\n",
        "print(\"Metrics Normal\",metrics)\n",
        "print(\"Metrics Concat\",metrics2)"
      ],
      "execution_count": null,
      "outputs": [
        {
          "output_type": "stream",
          "name": "stdout",
          "text": [
            "- -  EXTRA TREES - - \n",
            "ACCURACY PRECISION RECALL F1\n",
            "Metrics Normal [0.6810693808760595, 0.6846621991247265, 0.6651939941536008, 0.6747877072381723]\n",
            "Metrics Concat [0.6924424176332573, 0.7175045503043996, 0.7040275896046311, 0.710702185197849]\n",
            "\n",
            "- -  DECISION TREES - - \n",
            "ACCURACY PRECISION RECALL F1\n",
            "Metrics Normal [0.665570628376927, 0.6782693558880937, 0.6233390911506776, 0.6496451445386879]\n",
            "Metrics Concat [0.6500776577112455, 0.6798242821671866, 0.6575932996674467, 0.6685240256691188]\n"
          ]
        }
      ]
    },
    {
      "cell_type": "markdown",
      "metadata": {
        "id": "-2BoQqArcerb"
      },
      "source": [
        "### Binary tree (same dataset)"
      ]
    },
    {
      "cell_type": "markdown",
      "metadata": {
        "id": "JdQBVesWdfWJ"
      },
      "source": [
        "#### Dataset"
      ]
    },
    {
      "cell_type": "code",
      "metadata": {
        "id": "_8DMxs6adr4p"
      },
      "source": [
        "# drop NaN's\n",
        "X = obj.replace([np.inf, -np.inf], np.nan).dropna()\n",
        "\n",
        "# training set\n",
        "T = X[\"Saved\"]\n",
        "X_train = X.drop(\"Saved\",axis = 1)\n",
        "X_train = X_train.drop(\"ResponseID\",axis = 1)\n",
        "\n",
        "# test set\n",
        "df_size = int(len(val_test_obj)/2)+1\n",
        "test_obj = val_test_obj.iloc[0:df_size,:]\n",
        "X_test = test_obj.replace([np.inf, -np.inf], np.nan).dropna()\n",
        "y_test = X_test[\"Saved\"]\n",
        "X_test = X_test.drop(\"Saved\",axis = 1)\n",
        "X_test = X_test.drop(\"ResponseID\",axis = 1)\n"
      ],
      "execution_count": null,
      "outputs": []
    },
    {
      "cell_type": "markdown",
      "metadata": {
        "id": "Fqu6jUladhRt"
      },
      "source": [
        "#### Training"
      ]
    },
    {
      "cell_type": "code",
      "metadata": {
        "colab": {
          "base_uri": "https://localhost:8080/"
        },
        "id": "XmE5JkNgchzl",
        "outputId": "12815d53-d86e-44cd-cee7-6ff0b6061577"
      },
      "source": [
        "from sklearn.ensemble import ExtraTreesClassifier\n",
        "\n",
        "# create model\n",
        "cf = ExtraTreesClassifier()\n",
        "df = DecisionTreeClassifier()\n",
        "\n",
        "\n",
        "#fit extra trees\n",
        "cf.fit(X_train,T)\n",
        "# fit decision trees\n",
        "df.fit(X_train,T)\n",
        "\n",
        "# results ExtraTreesClassifier\n",
        "results = cf.predict(X_train)\n",
        "metrics = calc_metrics(results,T)\n",
        "\n",
        "print(\"- - TRAINING EXTRA TREES - - \")\n",
        "print(\"ACCURACY PRECISION RECALL F1\")\n",
        "print(metrics)\n",
        "\n",
        "# results decision trees\n",
        "results = df.predict(X_train)\n",
        "metrics = calc_metrics(results,T)\n",
        "\n",
        "print(\"\\n- - TRAINING DECISION TREES - - \")\n",
        "print(\"ACCURACY PRECISION RECALL F1\")\n",
        "print(metrics)\n"
      ],
      "execution_count": null,
      "outputs": [
        {
          "output_type": "stream",
          "name": "stdout",
          "text": [
            "- - TRAINING EXTRA TREES - - \n",
            "ACCURACY PRECISION RECALL F1\n",
            "[0.7493091586255625, 0.7699874526231151, 0.7110142419606422, 0.7393266961789666]\n",
            "\n",
            "- - TRAINING DECISION TREES - - \n",
            "ACCURACY PRECISION RECALL F1\n",
            "[0.7493091586255625, 0.7699874526231151, 0.7110142419606422, 0.7393266961789666]\n"
          ]
        }
      ]
    },
    {
      "cell_type": "markdown",
      "metadata": {
        "id": "uY6NhL7Nc-ef"
      },
      "source": [
        "### Binary tree (same dataset) concatenated"
      ]
    },
    {
      "cell_type": "markdown",
      "metadata": {
        "id": "6MXchlcKdkYE"
      },
      "source": [
        "#### Dataset"
      ]
    },
    {
      "cell_type": "code",
      "metadata": {
        "id": "t5t9rJGMdv8C"
      },
      "source": [
        "# training set\n",
        "X = obj.replace([np.inf, -np.inf], np.nan).dropna()\n",
        "X = X.drop(\"ResponseID\",axis = 1)\n",
        "X_left, X_right = X.iloc[::2, :],X.iloc[1::2, :]  # X split into 2 x's\n",
        "\n",
        "# pop and remove saved and unnnamed  from x_left\n",
        "T_left = X_left[\"Saved\"].tolist()\n",
        "X_left = X_left.drop(\"Saved\",axis = 1)\n",
        "\n",
        "# pop and remove saved  and unnamed from x_right\n",
        "T_right = X_right[\"Saved\"].tolist()\n",
        "X_right = X_right.drop(\"Saved\",axis = 1)\n",
        "\n",
        "# combine Target for corresponding 2 images\n",
        "T_combined = [ 0 if [T_left[i],T_right[i]] == [0,1] else 1 for i in range(len(T_left)) ]\n",
        "\n",
        "# data\n",
        "y_train = np.array(T_combined)\n",
        "X_right = X_right.to_numpy()\n",
        "X_left = X_left.to_numpy()\n",
        "\n",
        "X_train = np.concatenate((X_left,X_right),axis=1)\n",
        "\n",
        "\n",
        "# test set\n",
        "\n",
        "df_size = int(len(val_test_obj)/2)+1\n",
        "test_obj = val_test_obj.iloc[0:df_size,:]\n",
        "\n",
        "X_test = test_obj.replace([np.inf, -np.inf], np.nan).dropna()\n",
        "X_test = X_test.drop(\"ResponseID\",axis = 1)\n",
        "X_test_left, X_test_right = X_test.iloc[::2, :],X_test.iloc[1::2, :]  # X split into 2 x's\n",
        "\n",
        "# pop and remove saved and unnnamed  from x_left\n",
        "T_test_left = X_test_left[\"Saved\"].tolist()\n",
        "X_test_left = X_test_left.drop(\"Saved\",axis = 1)\n",
        "\n",
        "# pop and remove saved  and unnamed from x_right\n",
        "T_test_right = X_test_right[\"Saved\"].tolist()\n",
        "X_test_right = X_test_right.drop(\"Saved\",axis = 1)\n",
        "\n",
        "# combine Target for corresponding 2 images\n",
        "T_test_combined = [ 0 if [T_test_left[i],T_test_right[i]] == [0,1] else 1 for i in range(len(T_test_left)) ]\n",
        "\n",
        "# data\n",
        "y_test = np.array(T_test_combined)\n",
        "X_test_right = X_test_right.to_numpy()\n",
        "X_test_left = X_test_left.to_numpy()\n",
        "\n",
        "X_test = np.concatenate((X_test_left,X_test_right),axis=1)"
      ],
      "execution_count": null,
      "outputs": []
    },
    {
      "cell_type": "markdown",
      "metadata": {
        "id": "4fL6XhzLdlpR"
      },
      "source": [
        "#### Training"
      ]
    },
    {
      "cell_type": "code",
      "metadata": {
        "colab": {
          "base_uri": "https://localhost:8080/"
        },
        "id": "8ByQFpsHc-M0",
        "outputId": "ccd5d772-24ae-4b7b-c8b7-08bd8c7f11fc"
      },
      "source": [
        "from sklearn.ensemble import ExtraTreesClassifier\n",
        "\n",
        "# create model\n",
        "#cf = ExtraTreesClassifier()\n",
        "#df = DecisionTreeClassifier()\n",
        "\n",
        "\n",
        "#fit extra trees\n",
        "#cf.fit(X_train,y_train)\n",
        "\n",
        "# fit decision trees\n",
        "#df.fit(X_train,y_train)\n",
        "\n",
        "# results ExtraTreesClassifier\n",
        "results = cf.predict(X_train)\n",
        "metrics = calc_metrics(results,y_train)\n",
        "\n",
        "print(\"- -  TRAINING EXTRA TREES - - \")\n",
        "print(\"ACCURACY PRECISION RECALL F1\")\n",
        "print(metrics)\n",
        "\n",
        "# results decision trees\n",
        "results = df.predict(X_train)\n",
        "metrics = calc_metrics(results,y_train)\n",
        "\n",
        "print(\"\\n- - TRAINING DECISION TREES - - \")\n",
        "print(\"ACCURACY PRECISION RECALL F1\")\n",
        "print(metrics)"
      ],
      "execution_count": null,
      "outputs": [
        {
          "output_type": "stream",
          "name": "stdout",
          "text": [
            "- -  TRAINING EXTRA TREES - - \n",
            "ACCURACY PRECISION RECALL F1\n",
            "[0.8402397511474105, 0.8588185983812227, 0.8420774950989376, 0.8503656594207776]\n",
            "\n",
            "- - TRAINING DECISION TREES - - \n",
            "ACCURACY PRECISION RECALL F1\n",
            "[0.8402397511474105, 0.8588185983812227, 0.8420774950989376, 0.8503656594207776]\n"
          ]
        }
      ]
    },
    {
      "cell_type": "markdown",
      "metadata": {
        "id": "iD_N0P3zchdD"
      },
      "source": [
        ""
      ]
    },
    {
      "cell_type": "markdown",
      "metadata": {
        "id": "PZwHH3Fo7RHJ"
      },
      "source": [
        "#**Neural Network**\n",
        "\n",
        "###**Accuracy 60~80%**\n",
        "###**Accuracy Precision           Recall               F1Score BS = 50 bats = 5000 (Training)**\n",
        "0.702176, 0.7782387819557833, 0.7004263820544107, 0.7372852051797749\n",
        "\n",
        "###**Accuracy Precision           Recall               F1Score BS = 1024 bats = 5000 (Training)**\n",
        "0.7055662109375, 0.7729913638590354, 0.707473181584666, 0.7387825141910745"
      ]
    },
    {
      "cell_type": "code",
      "metadata": {
        "id": "YE7iacAe4yfw"
      },
      "source": [
        "# network class\n",
        "# 2 layers for input: each representing one scenario (image)\n",
        "import torch\n",
        "import torch.nn as nn\n",
        "\n",
        "class Network(nn.Module):\n",
        "    def __init__(self):\n",
        "        # super\n",
        "        super(Network,self).__init__()\n",
        "                \n",
        "        # inputs\n",
        "        self.input1 = nn.Linear(23,16)\n",
        "        self.input2 = nn.Linear(23,16)\n",
        "        self.fc2 = nn.Linear(32,1)  \n",
        "\n",
        "        # activation function\n",
        "        self.act = nn.Sigmoid()\n",
        "\n",
        "        # loss function\n",
        "        self.loss_function = nn.MSELoss()\n",
        "\n",
        "        # optimization\n",
        "        self.optim = torch.optim.Adam(self.parameters())\n",
        "\n",
        "\n",
        "    # forward pass\n",
        "    def forward(self,input1,input2):\n",
        "        x1 = self.act(self.input1(input1))\n",
        "        x2 = self.act(self.input2(input2))\n",
        "        # now we can reshape x1 and x2 to 2D and concat them\n",
        "        combined = torch.cat((x1.view(x1.size(0), -1),\n",
        "                              x2.view(x2.size(0), -1)), dim=1)\n",
        "        \n",
        "        out = self.act(self.fc2(combined))\n",
        "        return out"
      ],
      "execution_count": null,
      "outputs": []
    },
    {
      "cell_type": "markdown",
      "metadata": {
        "id": "ANzOmZRrDmgo"
      },
      "source": [
        "## Training dataset\n"
      ]
    },
    {
      "cell_type": "code",
      "metadata": {
        "id": "1bsU1mQy41CB"
      },
      "source": [
        "# - clean data for 2 inputs -\n",
        "# split obj into 2 inputs (left images and right images)\n",
        "X = obj.replace([np.inf, -np.inf], np.nan).dropna()\n",
        "X = X.drop(\"ResponseID\",axis = 1)\n",
        "X_left, X_right = X.iloc[::2, :],X.iloc[1::2, :]  # X split into 2 x's\n",
        "\n",
        "# pop and remove saved from x_left\n",
        "T_left = X_left[\"Saved\"].tolist()\n",
        "X_left = X_left.drop(\"Saved\",axis = 1)\n",
        "\n",
        "# pop and remove saved from x_right\n",
        "T_right = X_right[\"Saved\"].tolist()\n",
        "X_right = X_right.drop(\"Saved\",axis = 1)\n",
        "\n",
        "# combine Target for corresponding 2 images\n",
        "T_combined = [ 0 if [T_left[i],T_right[i]] == [0,1] else 1 for i in range(len(T_left)) ]\n",
        "\n",
        "# data\n",
        "Y_train = np.array(T_combined)\n",
        "X_right = X_right.to_numpy()\n",
        "X_left = X_left.to_numpy()"
      ],
      "execution_count": null,
      "outputs": []
    },
    {
      "cell_type": "markdown",
      "metadata": {
        "id": "SKkRxSmtDtdB"
      },
      "source": [
        "## Test and Validation datasets"
      ]
    },
    {
      "cell_type": "code",
      "metadata": {
        "id": "adMI4LeNDzFY"
      },
      "source": [
        "# dividing dataframe into 2 (1 for validation and 1 for testing)\n",
        "df_size = int(len(val_test_obj)/2)+1\n",
        "test_obj = val_test_obj.iloc[0:df_size,:]\n",
        "val_obj = val_test_obj.iloc[df_size:,:]\n",
        "\n",
        "# - - - - - VALIDATION DATASET - - - - - -\n",
        "# - clean data for 2 inputs -\n",
        "# split obj into 2 inputs (left images and right images)\n",
        "X_val = val_obj.replace([np.inf, -np.inf], np.nan).dropna()\n",
        "X_val = X_val.drop(\"ResponseID\",axis = 1)\n",
        "X_val_left, X_val_right = X_val.iloc[::2, :],X_val.iloc[1::2, :]  # X split into 2 x's\n",
        "\n",
        "# pop and remove saved from x_left\n",
        "T_val_left = X_val_left[\"Saved\"].tolist()\n",
        "X_val_left = X_val_left.drop(\"Saved\",axis = 1)\n",
        "\n",
        "# pop and remove saved from x_right\n",
        "T_val_right = X_val_right[\"Saved\"].tolist()\n",
        "X_val_right = X_val_right.drop(\"Saved\",axis = 1)\n",
        "\n",
        "# combine Target for corresponding 2 images\n",
        "T_val_combined = [ 0 if [T_val_left[i],T_val_right[i]] == [0,1] else 1 for i in range(len(T_val_left)) ]\n",
        "\n",
        "# data\n",
        "Y_val = np.array(T_val_combined)\n",
        "X_val_right = X_val_right.to_numpy()\n",
        "X_val_left = X_val_left.to_numpy()\n",
        "\n",
        "# - - - - - TEST DATASET - - - - - -\n",
        "# - clean data for 2 inputs -\n",
        "# split obj into 2 inputs (left images and right images)\n",
        "X_test = test_obj.replace([np.inf, -np.inf], np.nan).dropna()\n",
        "X_test = X_test.drop(\"ResponseID\",axis = 1)\n",
        "X_test_left, X_test_right = X_test.iloc[::2, :],X_test.iloc[1::2, :]  # X split into 2 x's\n",
        "\n",
        "# pop and remove saved from x_left\n",
        "T_test_left = X_test_left[\"Saved\"].tolist()\n",
        "X_test_left = X_test_left.drop(\"Saved\",axis = 1)\n",
        "\n",
        "# pop and remove saved from x_right\n",
        "T_test_right = X_test_right[\"Saved\"].tolist()\n",
        "X_test_right = X_test_right.drop(\"Saved\",axis = 1)\n",
        "\n",
        "# combine Target for corresponding 2 images\n",
        "T_test_combined = [ 0 if [T_test_left[i],T_test_right[i]] == [0,1] else 1 for i in range(len(T_test_left)) ]\n",
        "\n",
        "# data\n",
        "Y_test = np.array(T_test_combined)\n",
        "X_test_right = X_test_right.to_numpy()\n",
        "X_test_left = X_test_left.to_numpy()\n",
        "\n"
      ],
      "execution_count": null,
      "outputs": []
    },
    {
      "cell_type": "markdown",
      "metadata": {
        "id": "bOWyKEodDwqz"
      },
      "source": [
        "## Training in batches"
      ]
    },
    {
      "cell_type": "code",
      "metadata": {
        "id": "mE9jgAAg44Sp",
        "colab": {
          "base_uri": "https://localhost:8080/"
        },
        "outputId": "d88ff9b8-106a-46d0-f02e-4f929601fd89"
      },
      "source": [
        "from tqdm import trange\n",
        "\n",
        "# DEFINE\n",
        "# [0,1] -> 0\n",
        "# [1,0] -> 1\n",
        "\n",
        "# training \n",
        "model = Network()\n",
        "x1 = torch.tensor(X_left[0:10].reshape((-1,23))).float()\n",
        "x2 = torch.tensor(X_right[0:10].reshape((-1,23))).float()\n",
        "\n",
        "# arrays to plot graph\n",
        "losses = []\n",
        "accuracies = []\n",
        "validations = []\n",
        "preds = []\n",
        "target = []\n",
        "BS = 64\n",
        "\n",
        "# validation set inputs and targets\n",
        "val_x_right = torch.tensor(X_val_right.reshape((-1,23))).float()\n",
        "val_x_left = torch.tensor(X_val_left.reshape((-1,23))).float()\n",
        "val_Y = torch.tensor(Y_val)\n",
        "\n",
        "# optimization\n",
        "optim = torch.optim.Adam(model.parameters())\n",
        "dataset_length = X_right.shape[0]\n",
        "\n",
        "val_freq = 50\n",
        "epochs = 13\n",
        "t = trange(epochs)\n",
        "\n",
        "for epoch in t:\n",
        "  for i in range(dataset_length//BS):\n",
        "      # get sample from x_train\n",
        "      # samp = np.random.randint(0,X_right.shape[0],size=(BS))\n",
        "      samp = range(i*BS ,i*BS+BS)\n",
        "      \n",
        "      x_right = torch.tensor(X_right[samp].reshape((-1,23))).float()\n",
        "      x_left = torch.tensor(X_left[samp].reshape((-1,23))).float()\n",
        "      Y = torch.tensor(Y_train[samp].reshape((BS,-1)))\n",
        "\n",
        "      \n",
        "\n",
        "      # zero the gradients before running the backward pass\n",
        "      optim.zero_grad()\n",
        "\n",
        "      # get predicted y\n",
        "      out = model(x_left,x_right)\n",
        "      \n",
        "      out_rounded = torch.round(out)\n",
        "      \n",
        "      #calc metrics\n",
        "      preds = preds + (np.squeeze(out_rounded.detach().numpy()).tolist())\n",
        "      \n",
        "      target = target +  (np.squeeze(Y.detach().numpy()).tolist())\n",
        "      \n",
        "        \n",
        "      # compute loss and accuracy\n",
        "      accuracy = (Y == out_rounded).float().mean()\n",
        "      #accuracy = sum(1 for x,y in zip(cats,ys) if x == y) / len(cats)\n",
        "      \n",
        "      Y = Y.float()\n",
        "      \n",
        "      loss = model.loss_function(out,Y)\n",
        "      \n",
        "      # backward pass\n",
        "      loss.backward()\n",
        "\n",
        "      # optimization\n",
        "      optim.step()\n",
        "\n",
        "      # plot arrays\n",
        "      loss , accuracy  = loss.item(), accuracy\n",
        "      accuracies.append(accuracy)\n",
        "      losses.append(loss)\n",
        "\n",
        "      # validation every 50 iterations\n",
        "      if(i%val_freq==0):\n",
        "        val_out = model(val_x_left,val_x_right)\n",
        "        val_Y = val_Y.float()\n",
        "        val_loss = model.loss_function(val_out.squeeze(),val_Y)\n",
        "        loss_validation =  val_loss.item()\n",
        "        validations.append(loss_validation)\n",
        "\n",
        "  # trange descriptor\n",
        "  t.set_description(\"epochs %d\" % epochs)"
      ],
      "execution_count": null,
      "outputs": [
        {
          "output_type": "stream",
          "name": "stderr",
          "text": [
            "epochs 13: 100%|██████████| 13/13 [46:16<00:00, 213.54s/it]\n"
          ]
        }
      ]
    },
    {
      "cell_type": "code",
      "metadata": {
        "id": "81TRr8hq45dl",
        "colab": {
          "base_uri": "https://localhost:8080/",
          "height": 282
        },
        "outputId": "927e3391-155f-4f7f-ba4d-46e74e962244"
      },
      "source": [
        "from matplotlib import pyplot as plt\n",
        "# show accuracy and loss plot\n",
        "plt.ylim(-0.1,1.1)\n",
        "plt.plot(losses,label=\"Loss\")\n",
        "plt.plot(accuracies,label=\"Accuracy\")\n",
        "plt.plot(validations,label=\"Validation Loss\")\n",
        "plt.legend(bbox_to_anchor=(1.05, 1), loc='upper left', borderaxespad=0.)\n",
        "plt.show()\n",
        "\n",
        " \n",
        "metrics = calc_metrics(target,preds)\n",
        "\n",
        "print(metrics)"
      ],
      "execution_count": null,
      "outputs": [
        {
          "output_type": "display_data",
          "data": {
            "image/png": "[encoded data removed]",
            "text/plain": [
              "<Figure size 432x288 with 1 Axes>"
            ]
          },
          "metadata": {
            "needs_background": "light"
          }
        },
        {
          "output_type": "stream",
          "name": "stdout",
          "text": [
            "[0.45791015625, 0.002157497303128371, 0.9230769230769231, 0.004304932735426008]\n"
          ]
        }
      ]
    },
    {
      "cell_type": "markdown",
      "metadata": {
        "id": "h2AhOqJHHn7D"
      },
      "source": [
        "## Training simple"
      ]
    },
    {
      "cell_type": "code",
      "metadata": {
        "id": "lWvf1mVWHqri",
        "colab": {
          "base_uri": "https://localhost:8080/",
          "height": 81,
          "referenced_widgets": [
            "3af8d7254b0b40d0ab6c7b5a8c9487ff",
            "6432d57bf0924018a1ef3e06208042db",
            "935a525e3fe64646b6d07dc66a20c003",
            "b95c79589d334d46854d651ed3c93d30",
            "4df6b1c96a6e41eb892bb8cf2097433e",
            "c5651cc748f24fd49ab486387a61a715",
            "b3523688f05c44f395f20c1feb97b8c2",
            "6fb011a856ae4794a57a00f5855a8d07",
            "a8914f4b026a47d6b53f6a745eadd3e4",
            "b49a71b51a3e41adb78d2729d6354b01",
            "147f54a2d44d49aca4a424dfb9bb9733",
            "60ea713fef244f9ba43033d1bd50aabe",
            "2af3064e08234a91a6de96b676807f74",
            "fe8a26d7ca5148c4a4f4dcfa564dcf06",
            "60b23d9cd6a544bca3232d2b081b8266",
            "89f431da6af54d54bb0261268364c0d8",
            "d2db58e34adf4465b18cd74ada6b313d",
            "6f21aecd7972499c85142d9133b83259",
            "cd12114d2fb6486fbb1b0648c9aabddc",
            "123c61609f754e1094b730a626e4c58b",
            "7c085c48674f4662bde0a6033fdc9faa",
            "6c61d40fd377410e90451b3400328bc6"
          ]
        },
        "outputId": "1aad81be-e8d5-426d-aba7-13f0e6ee1acd"
      },
      "source": [
        "from tqdm.auto import trange\n",
        "\n",
        "# DEFINE\n",
        "# [0,1] -> 0\n",
        "# [1,0] -> 1\n",
        "\n",
        "# training \n",
        "model = Network2()\n",
        "\n",
        "# training plot metrics\n",
        "acc_plot = []\n",
        "loss_plot = []\n",
        "loss_val_plot = []\n",
        "\n",
        "\n",
        "# arrays to plot graph\n",
        "validations = []\n",
        "preds = []\n",
        "target = []\n",
        "\n",
        "# optimization\n",
        "optim = torch.optim.Adam(model.parameters())\n",
        "\n",
        "# training params\n",
        "dataset_length = X_right.shape[0]\n",
        "epochs = 4\n",
        "t = trange(4)\n",
        "\n",
        "t1 = trange(1000)\n",
        "\n",
        "for epoch in t:\n",
        "  # reset losses and accuracies after each epoch\n",
        "  losses = []\n",
        "  accuracies = []\n",
        "  # train 1 iteration of the entire dataset\n",
        "  for i in t1:\n",
        "    x_right = torch.tensor(X_right[i].reshape((-1,23))).float()\n",
        "    x_left = torch.tensor(X_left[i].reshape((-1,23))).float()\n",
        "    Y = torch.tensor(Y_train[i])\n",
        "\n",
        "    # zero the gradients before running the backward pass\n",
        "    optim.zero_grad()\n",
        "\n",
        "    # get predicted y\n",
        "    out = model(x_left,x_right)\n",
        "    out_rounded = torch.round(out)\n",
        "            \n",
        "    # compute loss and accuracy\n",
        "    accuracy = (Y == out_rounded).float().mean()\n",
        "    Y = Y.float()\n",
        "    out = out.squeeze().squeeze()\n",
        "    loss = model.loss_function(out,Y)\n",
        "    \n",
        "    # backward pass\n",
        "    loss.backward()\n",
        "    # optimization\n",
        "    optim.step()\n",
        "\n",
        "    # plot arrays\n",
        "    loss , accuracy = loss.item(), accuracy\n",
        "    accuracies.append(accuracy)\n",
        "    losses.append(loss)\n",
        "\n",
        "    # plot metrics \n",
        "    acc_plot.append(accuracy)\n",
        "    loss_plot.append(loss)\n",
        "\n",
        "  # validation\n",
        "  out_val = model(torch.tensor(X_val_left).float(),torch.tensor(X_val_right).float())\n",
        "  out_val_rounded = torch.round(out_val)\n",
        "  out_val_rounded = out_val_rounded.clone().detach().numpy()\n",
        "  val_metrics = calc_metrics(out_val_rounded,Y_val)\n",
        "\n",
        "  # plot metrics\n",
        "  Y_val2 = torch.tensor(Y_val).float();\n",
        "  out_val = out_val.squeeze()\n",
        "\n",
        "  val_loss = model.loss_function(out_val,Y_val2)\n",
        "  loss_val_plot.append(val_loss.item())\n",
        "\n",
        "  # print(\"\\n- - Epoch %d - -\\nloss %.2f accuracy %.2f validation accuracy %.2f\" % (epoch, np.mean(losses), np.mean(accuracies),val_metrics[0]))\n",
        "  # trange descriptor\n",
        "  t.set_description(\"loss %.2f accuracy %.2f validation accuracy %.2f\" % (np.mean(losses), np.mean(accuracies),val_metrics[0]))\n",
        "\n"
      ],
      "execution_count": null,
      "outputs": [
        {
          "output_type": "display_data",
          "data": {
            "application/vnd.jupyter.widget-view+json": {
              "model_id": "3af8d7254b0b40d0ab6c7b5a8c9487ff",
              "version_minor": 0,
              "version_major": 2
            },
            "text/plain": [
              "  0%|          | 0/4 [00:00<?, ?it/s]"
            ]
          },
          "metadata": {}
        },
        {
          "output_type": "display_data",
          "data": {
            "application/vnd.jupyter.widget-view+json": {
              "model_id": "60ea713fef244f9ba43033d1bd50aabe",
              "version_minor": 0,
              "version_major": 2
            },
            "text/plain": [
              "  0%|          | 0/1000 [00:00<?, ?it/s]"
            ]
          },
          "metadata": {}
        }
      ]
    },
    {
      "cell_type": "markdown",
      "metadata": {
        "id": "-Qv8kiUEHrXH"
      },
      "source": [
        "## Save model"
      ]
    },
    {
      "cell_type": "code",
      "metadata": {
        "id": "4vtDQyFU47vl",
        "colab": {
          "base_uri": "https://localhost:8080/"
        },
        "outputId": "c4dba03b-e75f-443f-e79d-e187bfcb2da9"
      },
      "source": [
        "# save model \n",
        "print(model)\n",
        "torch.save(model.state_dict(), \"./network2_32_simple\")"
      ],
      "execution_count": null,
      "outputs": [
        {
          "output_type": "stream",
          "name": "stdout",
          "text": [
            "Network2(\n",
            "  (input1): Linear(in_features=23, out_features=16, bias=True)\n",
            "  (input2): Linear(in_features=23, out_features=16, bias=True)\n",
            "  (middle1): Linear(in_features=32, out_features=24, bias=True)\n",
            "  (middle2): Linear(in_features=24, out_features=8, bias=True)\n",
            "  (last): Linear(in_features=8, out_features=1, bias=True)\n",
            "  (act): Sigmoid()\n",
            "  (loss_function): MSELoss()\n",
            ")\n"
          ]
        }
      ]
    },
    {
      "cell_type": "code",
      "metadata": {
        "id": "bKNr-_8A4-GX"
      },
      "source": [
        "# load model\n",
        "model = Network()\n",
        "model.load_state_dict(torch.load(\"./network32_simple\"))\n",
        "model.eval()"
      ],
      "execution_count": null,
      "outputs": []
    },
    {
      "cell_type": "markdown",
      "metadata": {
        "id": "PN415hKymb8d"
      },
      "source": [
        "## Testing"
      ]
    },
    {
      "cell_type": "code",
      "metadata": {
        "colab": {
          "base_uri": "https://localhost:8080/"
        },
        "id": "F0d5jBe_mbQT",
        "outputId": "b83951c1-7ee1-44da-c64b-c08cdf065a57"
      },
      "source": [
        "# testing\n",
        "\n",
        "preds = model(torch.tensor(X_test_left).float(),torch.tensor(X_test_right).float())\n",
        "preds_rounded = torch.round(preds)\n",
        "preds_rounded = preds_rounded.clone().detach().numpy()\n",
        "test_metrics = calc_metrics(preds_rounded,Y_test)\n",
        "print(test_metrics)"
      ],
      "execution_count": null,
      "outputs": [
        {
          "output_type": "stream",
          "name": "stdout",
          "text": [
            "[0.7279216401633819, 0.7435128297795446, 0.7564159129347746, 0.7499088722023767]\n"
          ]
        }
      ]
    },
    {
      "cell_type": "markdown",
      "metadata": {
        "id": "LZo5Uil3-d8j"
      },
      "source": [
        "#**Random Forest**"
      ]
    },
    {
      "cell_type": "code",
      "metadata": {
        "id": "oCdT-GTb7zlE"
      },
      "source": [
        "# training set\n",
        "X = obj.replace([np.inf, -np.inf], np.nan).dropna()\n",
        "X = X.drop(\"ResponseID\",axis = 1)\n",
        "X_left, X_right = X.iloc[::2, :],X.iloc[1::2, :]  # X split into 2 x's\n",
        "\n",
        "# pop and remove saved and unnnamed  from x_left\n",
        "T_left = X_left[\"Saved\"].tolist()\n",
        "X_left = X_left.drop(\"Saved\",axis = 1)\n",
        "\n",
        "# pop and remove saved  and unnamed from x_right\n",
        "T_right = X_right[\"Saved\"].tolist()\n",
        "X_right = X_right.drop(\"Saved\",axis = 1)\n",
        "\n",
        "# combine Target for corresponding 2 images\n",
        "T_combined = [ 0 if [T_left[i],T_right[i]] == [0,1] else 1 for i in range(len(T_left)) ]\n",
        "\n",
        "# data\n",
        "y_train = np.array(T_combined)\n",
        "X_right = X_right.to_numpy()\n",
        "X_left = X_left.to_numpy()\n",
        "\n",
        "X_train = np.concatenate((X_left,X_right),axis=1)\n",
        "\n",
        "# test set\n",
        "\n",
        "df_size = int(len(val_test_obj)/2)+1\n",
        "test_obj = val_test_obj.iloc[0:df_size,:]\n",
        "\n",
        "X_test = test_obj.replace([np.inf, -np.inf], np.nan).dropna()\n",
        "X_test = X_test.drop(\"ResponseID\",axis = 1)\n",
        "X_test_left, X_test_right = X_test.iloc[::2, :],X_test.iloc[1::2, :]  # X split into 2 x's\n",
        "\n",
        "# pop and remove saved and unnnamed  from x_left\n",
        "T_test_left = X_test_left[\"Saved\"].tolist()\n",
        "X_test_left = X_test_left.drop(\"Saved\",axis = 1)\n",
        "\n",
        "# pop and remove saved  and unnamed from x_right\n",
        "T_test_right = X_test_right[\"Saved\"].tolist()\n",
        "X_test_right = X_test_right.drop(\"Saved\",axis = 1)\n",
        "\n",
        "# combine Target for corresponding 2 images\n",
        "T_test_combined = [ 0 if [T_test_left[i],T_test_right[i]] == [0,1] else 1 for i in range(len(T_test_left)) ]\n",
        "\n",
        "# data\n",
        "y_test = np.array(T_test_combined)\n",
        "X_test_right = X_test_right.to_numpy()\n",
        "X_test_left = X_test_left.to_numpy()\n",
        "\n",
        "X_test = np.concatenate((X_test_left,X_test_right),axis=1)"
      ],
      "execution_count": null,
      "outputs": []
    },
    {
      "cell_type": "code",
      "metadata": {
        "colab": {
          "base_uri": "https://localhost:8080/"
        },
        "id": "3spwl8Am7zXH",
        "outputId": "b0c18c7a-2efb-4d29-b91d-b994dd379ed7"
      },
      "source": [
        "from sklearn.ensemble import RandomForestClassifier\n",
        "rf= RandomForestClassifier()\n",
        "rf.fit(X_train,T)"
      ],
      "execution_count": null,
      "outputs": [
        {
          "output_type": "execute_result",
          "data": {
            "text/plain": [
              "RandomForestClassifier()"
            ]
          },
          "metadata": {},
          "execution_count": 5
        }
      ]
    },
    {
      "cell_type": "code",
      "metadata": {
        "id": "41pnW1xj7wyX",
        "colab": {
          "base_uri": "https://localhost:8080/"
        },
        "outputId": "fc7f4fc4-6d13-4af1-e530-5ba95beba1b6"
      },
      "source": [
        "# y_pred = rf.predict(X_train)\n",
        "\n",
        "metrics = calc_metrics(y_pred,T)\n",
        "print(metrics)"
      ],
      "execution_count": null,
      "outputs": [
        {
          "output_type": "stream",
          "name": "stdout",
          "text": [
            "[0.749292692200603, 0.7639692875393892, 0.7214928760257834, 0.7421237807084401]\n"
          ]
        }
      ]
    },
    {
      "cell_type": "code",
      "metadata": {
        "colab": {
          "base_uri": "https://localhost:8080/"
        },
        "id": "4Rj2Akfz7wbl",
        "outputId": "f76f77e9-353d-461a-a795-623a4d98906c"
      },
      "source": [
        "from sklearn.metrics import roc_curve , auc\n",
        "false_positive_rate, true_positive_rate, thresholds = roc_curve(y_test,y_pred)\n",
        "roc_auc = auc(false_positive_rate,true_positive_rate)\n",
        "roc_auc\n",
        "#accuracy do modelo"
      ],
      "execution_count": null,
      "outputs": [
        {
          "output_type": "execute_result",
          "data": {
            "text/plain": [
              "0.6812816525872403"
            ]
          },
          "metadata": {},
          "execution_count": 26
        }
      ]
    },
    {
      "cell_type": "code",
      "metadata": {
        "id": "755Yurnt8J4L"
      },
      "source": [
        "n_estimators = [1,2,4,8,16,32,64,100,200]\n",
        "train_results = []\n",
        "test_results = []\n",
        " \n",
        "for estimator in n_estimators:\n",
        "    rf = RandomForestClassifier(n_estimators=estimator,n_jobs=-1)\n",
        "    rf.fit(X_train,y_train)\n",
        "    train_pred = rf.predict(X_train)\n",
        "    false_positive_rate,true_positive_rate,thresjolds = roc_curve(y_train,train_pred)\n",
        "    roc_uc = auc(false_positive_rate,true_positive_rate)\n",
        "    train_results.append(roc_auc)\n",
        "    y_pred = rf.predict(X_test)\n",
        "    false_positive_rate, true_positive_rate,thresholds = roc_curve(y_test,y_pred)\n",
        "    roc_auc = auc(false_positive_rate,true_positive_rate)\n",
        "    test_results.append(roc_auc)"
      ],
      "execution_count": null,
      "outputs": []
    },
    {
      "cell_type": "code",
      "metadata": {
        "colab": {
          "base_uri": "https://localhost:8080/",
          "height": 280
        },
        "id": "5oLkp9Ft8JuL",
        "outputId": "ca38652e-28bf-4cd8-8242-a365df775e25"
      },
      "source": [
        "from matplotlib.legend_handler import HandlerLine2D\n",
        "\n",
        "line1, = plt.plot(n_estimators,train_results , \"b\", label = \"Train AUC\")\n",
        "line2, = plt.plot(n_estimators, test_results,\"r\",label = \"Test AUC\" )\n",
        "plt.legend(handler_map = {line1:HandlerLine2D(numpoints=2)})\n",
        "plt.ylabel(\"AUC score\")\n",
        "plt.xlabel(\"n_estimators\")\n",
        "plt.show()"
      ],
      "execution_count": null,
      "outputs": [
        {
          "output_type": "display_data",
          "data": {
            "image/png": "[encoded data removed]",
            "text/plain": [
              "<Figure size 432x288 with 1 Axes>"
            ]
          },
          "metadata": {
            "needs_background": "light"
          }
        }
      ]
    },
    {
      "cell_type": "markdown",
      "metadata": {
        "id": "tP8ZsvJSByMV"
      },
      "source": [
        "# **K-Fold cross validation**\n"
      ]
    },
    {
      "cell_type": "markdown",
      "metadata": {
        "id": "qmSfXtR_bqhD"
      },
      "source": [
        "## **Network**\n"
      ]
    },
    {
      "cell_type": "code",
      "metadata": {
        "id": "dvF_9o9xbit2"
      },
      "source": [
        "# network class\n",
        "# 2 layers for input: each representing one scenario (image)\n",
        "import torch\n",
        "import torch.nn as nn\n",
        "\n",
        "class Network(nn.Module):\n",
        "    def __init__(self):\n",
        "        # super\n",
        "        super(Network,self).__init__()\n",
        "        \n",
        "        # layers (verificar numeros: isto é do mnist)\n",
        "        #self.layer1 = nn.Linear(784,128)\n",
        "        #self.layer2 = nn.Linear(128,10)\n",
        "        \n",
        "        # inputs\n",
        "        self.input1 = nn.Linear(23,16)\n",
        "        self.input2 = nn.Linear(23,16)\n",
        "        self.fc2 = nn.Linear(32,1)  \n",
        "\n",
        "        # activation function\n",
        "        self.act = nn.Sigmoid()\n",
        "        #self.act2 = nn.Binnary()\n",
        "\n",
        "        # loss function\n",
        "        self.loss_function = nn.MSELoss()\n",
        "\n",
        "        # optimization\n",
        "        self.optim = torch.optim.Adam(self.parameters())\n",
        "\n",
        "\n",
        "    # forward pass\n",
        "    def forward(self,input1,input2):\n",
        "        x1 = self.act(self.input1(input1))\n",
        "        x2 = self.act(self.input2(input2))\n",
        "        # now we can reshape `c` and `f` to 2D and concat them\n",
        "        combined = torch.cat((x1.view(x1.size(0), -1),\n",
        "                              x2.view(x2.size(0), -1)), dim=1)\n",
        "        \n",
        "        out = self.fc2(combined)\n",
        "        return out"
      ],
      "execution_count": null,
      "outputs": []
    },
    {
      "cell_type": "markdown",
      "metadata": {
        "id": "UCZPXGLBbvIL"
      },
      "source": [
        "## **Data**"
      ]
    },
    {
      "cell_type": "code",
      "metadata": {
        "id": "idn7gCeXb2OT",
        "colab": {
          "base_uri": "https://localhost:8080/"
        },
        "outputId": "e2592960-9608-49ad-f930-1f7736e43cca"
      },
      "source": [
        "import gc\n",
        "\n",
        "# - clean data for 2 inputs -\n",
        "# split obj into 2 inputs (left images and right images)\n",
        "X = obj.replace([np.inf, -np.inf], np.nan).dropna()\n",
        "X = X.drop(\"ResponseID\",axis = 1)\n",
        "X_left, X_right = X.iloc[::2, :],X.iloc[1::2, :]  # X split into 2 x's\n",
        "\n",
        "# pop and remove saved from x_left\n",
        "T_left = X_left[\"Saved\"].tolist()\n",
        "X_left = X_left.drop(\"Saved\",axis = 1)\n",
        "\n",
        "# pop and remove saved from x_right\n",
        "T_right = X_right[\"Saved\"].tolist()\n",
        "X_right = X_right.drop(\"Saved\",axis = 1)\n",
        "\n",
        "# combine Target for corresponding 2 images\n",
        "T_combined = [ 0 if [T_left[i],T_right[i]] == [0,1] else 1 for i in range(len(T_left)) ]\n",
        "\n",
        "# data\n",
        "\n",
        "\n",
        "Y = np.array(T_combined)\n",
        "X_right = X_right.to_numpy()\n",
        "X_left = X_left.to_numpy()\n",
        "\n",
        "# clean\n",
        "del X\n",
        "del T_combined\n",
        "del T_right\n",
        "del T_left\n",
        "del obj\n",
        "gc.collect()"
      ],
      "execution_count": null,
      "outputs": [
        {
          "output_type": "execute_result",
          "data": {
            "text/plain": [
              "1081"
            ]
          },
          "metadata": {},
          "execution_count": 28
        }
      ]
    },
    {
      "cell_type": "markdown",
      "metadata": {
        "id": "HbA2U44_b3fr"
      },
      "source": [
        ""
      ]
    },
    {
      "cell_type": "code",
      "metadata": {
        "id": "nPuLomXfB6Xw"
      },
      "source": [
        "from sklearn.model_selection import RepeatedKFold\n",
        "import gc\n",
        "from sklearn.metrics import accuracy_score\n",
        "# new model\n",
        "model = Network2()\n",
        "\n",
        "# repeated k-fold\n",
        "rkf = RepeatedKFold(n_splits=5, n_repeats=10, random_state=42)\n",
        "\n",
        "# fit model\n",
        "def fit(model,x_left,x_right,y,fold):\n",
        "    print(\"Fitting fold \",fold)\n",
        "    # zero the gradients before running the backward pass.\n",
        "    model.optim.zero_grad()\n",
        "\n",
        "    # get predicted out\n",
        "    out = model(x_left,x_right).float()\n",
        "\n",
        "    Y = y.float()\n",
        "    Y = Y.unsqueeze(-1)\n",
        "    loss = model.loss_function(out,Y)\n",
        "\n",
        "    # backward pass\n",
        "    loss.backward()\n",
        "\n",
        "    # optimization\n",
        "    model.optim.step()\n",
        "    return out\n",
        "    \n",
        "\n",
        "\n",
        "# training with k-cross validation\n",
        "def train(network, save_Model = False):\n",
        "    fold = 0\n",
        "    train_accs = []\n",
        "    test_accs = []\n",
        "    for train_index,test_index in rkf.split(X_left):\n",
        "      fold += 1\n",
        "\n",
        "      # getting train and test sets\n",
        "      X_train_right, X_train_left = torch.Tensor(X_right[train_index]) ,torch.Tensor(X_left[train_index])\n",
        "      X_test_right, X_test_left = torch.Tensor(X_right[test_index]),torch.Tensor(X_left[test_index])\n",
        "      Y_train2,Y_test2  = torch.Tensor(Y_train[train_index]),torch.Tensor(Y_train[test_index])\n",
        "\n",
        "      # training\n",
        "      preds = fit(network,X_train_left,X_train_right,Y_train,fold)\n",
        "      # clean\n",
        "      del X_train_right \n",
        "      del X_train_left\n",
        "      gc.collect()\n",
        "\n",
        "      # train accuraccy\n",
        "      preds = torch.round(preds).detach().numpy()\n",
        "      acc = accuracy_score(Y[train_index],preds)\n",
        "      train_accs.append(acc)\n",
        "      # clean\n",
        "      del Y_train\n",
        "      del preds\n",
        "      gc.collect()\n",
        "    \n",
        "      # testing\n",
        "      preds = network(X_test_left,X_test_right)\n",
        "      #clean\n",
        "      del X_test_right \n",
        "      del X_test_left\n",
        "      gc.collect()\n",
        "\n",
        "      # test accuraccy\n",
        "      preds = torch.round(preds).detach().numpy()\n",
        "      acc = accuracy_score(Y[test_index],preds)\n",
        "      test_accs.append(acc)\n",
        "      #clean\n",
        "      del Y_test\n",
        "      del preds\n",
        "      gc.collect()\n",
        "\n",
        "    print('Training Accuraccy : {}'.format(train_accs))\n",
        "    print('Testing Accuraccy : {}'.format(test_accs))\n",
        "\n",
        "train(model)"
      ],
      "execution_count": null,
      "outputs": []
    },
    {
      "cell_type": "markdown",
      "metadata": {
        "id": "JT7sMKajtgtt"
      },
      "source": [
        "# Neural Network 2"
      ]
    },
    {
      "cell_type": "code",
      "metadata": {
        "id": "PuaRsZP7tgPB"
      },
      "source": [
        "# network class\n",
        "# 2 layers for input: each representing one scenario (image)\n",
        "import torch\n",
        "import torch.nn as nn\n",
        "\n",
        "class Network2(nn.Module):\n",
        "    def __init__(self):\n",
        "        # super\n",
        "        super(Network2,self).__init__()\n",
        "                \n",
        "        # inputs\n",
        "        self.input1 = nn.Linear(23,16)\n",
        "        self.input2 = nn.Linear(23,16)\n",
        "\n",
        "        self.middle1 = nn.Linear(32,24)\n",
        "        self.middle2 = nn.Linear(24,8)\n",
        "        \n",
        "        self.last = nn.Linear(8,1)  \n",
        "\n",
        "        # activation function\n",
        "        self.act = nn.Sigmoid()\n",
        "\n",
        "        # loss function\n",
        "        self.loss_function = nn.MSELoss()\n",
        "\n",
        "        # optimization\n",
        "        self.optim = torch.optim.Adam(self.parameters())\n",
        "\n",
        "\n",
        "    # forward pass\n",
        "    def forward(self,input1,input2):\n",
        "        x1 = self.act(self.input1(input1))\n",
        "        x2 = self.act(self.input2(input2))\n",
        "        # now we can reshape x1 and x2 to 2D and concat them\n",
        "        combined = torch.cat((x1.view(x1.size(0), -1),\n",
        "                              x2.view(x2.size(0), -1)), dim=1)\n",
        "        \n",
        "        x = self.act(self.middle1(combined))\n",
        "        x = self.act(self.middle2(x))\n",
        "        out = self.act(self.last(x))\n",
        "        return out"
      ],
      "execution_count": null,
      "outputs": []
    },
    {
      "cell_type": "markdown",
      "metadata": {
        "id": "pjtIGzBfrEI3"
      },
      "source": [
        "# PLOT METRICS (accuracy,loss,val_loss,net)"
      ]
    },
    {
      "cell_type": "code",
      "metadata": {
        "id": "rP0_ryWdrDQK"
      },
      "source": [
        "def plot_metrics(accuracy,loss,val_loss,net):\n",
        " \n",
        "  \n",
        "  plt.ylim(-0.1,1.1)\n",
        "  plt.plot(loss,label=\"Loss\",zorder=1)\n",
        "\n",
        "  plt.scatter(range(0,len(loss)+400,50),val_loss,label=\"Validation Loss\",zorder=5,color=\"#59d6ff\",s=0.5)\n",
        "  plt.plot(accuracy,label=\"Accuracy\")\n",
        "  plt.title(net)\n",
        "  plt.legend(bbox_to_anchor=(1.05, 1), loc='upper left', borderaxespad=0.)\n",
        "\n",
        "  # epochs lines\n",
        "  length = len(loss)\n",
        "  epoch_size = length/epochs;\n",
        "  for i in range(epochs):\n",
        "    plt.axvline(x=epoch_size*i,linestyle = \"--\",linewidth=0.5,color=\"#121212\")\n",
        "  plt.show()\n",
        "\n"
      ],
      "execution_count": null,
      "outputs": []
    },
    {
      "cell_type": "code",
      "metadata": {
        "colab": {
          "base_uri": "https://localhost:8080/",
          "height": 281
        },
        "id": "WmFfvVUy1sFt",
        "outputId": "2e7ff84b-25e9-441a-f0ff-39fa65b1c211"
      },
      "source": [
        "plot_metrics(accuracies,losses,validations,\"Neural Network 32 16 1 MSELoss 13 Epochs BS: 64\")"
      ],
      "execution_count": null,
      "outputs": [
        {
          "output_type": "display_data",
          "data": {
            "image/png": "[encoded data removed]",
            "text/plain": [
              "<Figure size 432x288 with 1 Axes>"
            ]
          },
          "metadata": {
            "needs_background": "light"
          }
        }
      ]
    },
    {
      "cell_type": "code",
      "source": [
        "# load model\n",
        "model = Network2()\n",
        "model.load_state_dict(torch.load(\"./network2_32_simple\"))\n",
        "model.eval()\n",
        "X_test_left = torch.tensor(X_test_left.reshape((-1,23))).float()\n",
        "X_test_right = torch.tensor(X_test_right.reshape((-1,23))).float()\n",
        "test_Y = torch.tensor(Y_test)\n",
        "\n",
        "out = model(X_test_left,X_test_right)\n",
        "\n",
        "out = torch.round(out)\n",
        "out = out.clone().detach().numpy()\n",
        "metrics = calc_metrics(out,Y_test)\n",
        "print(metrics)\n",
        "print(model)"
      ],
      "metadata": {
        "colab": {
          "base_uri": "https://localhost:8080/"
        },
        "id": "51lhUcuCkn6M",
        "outputId": "12c1fff7-68b6-44b2-8484-10cbe5b1e66e"
      },
      "execution_count": null,
      "outputs": [
        {
          "output_type": "stream",
          "name": "stdout",
          "text": [
            "[0.7181068326922314, 0.783961149757186, 0.6588352084712111, 0.7159724303266408]\n",
            "Network2(\n",
            "  (input1): Linear(in_features=23, out_features=16, bias=True)\n",
            "  (input2): Linear(in_features=23, out_features=16, bias=True)\n",
            "  (middle1): Linear(in_features=32, out_features=24, bias=True)\n",
            "  (middle2): Linear(in_features=24, out_features=8, bias=True)\n",
            "  (last): Linear(in_features=8, out_features=1, bias=True)\n",
            "  (act): Sigmoid()\n",
            "  (loss_function): MSELoss()\n",
            ")\n"
          ]
        },
        {
          "output_type": "stream",
          "name": "stderr",
          "text": [
            "/usr/local/lib/python3.7/dist-packages/ipykernel_launcher.py:5: UserWarning: To copy construct from a tensor, it is recommended to use sourceTensor.clone().detach() or sourceTensor.clone().detach().requires_grad_(True), rather than torch.tensor(sourceTensor).\n",
            "  \"\"\"\n",
            "/usr/local/lib/python3.7/dist-packages/ipykernel_launcher.py:6: UserWarning: To copy construct from a tensor, it is recommended to use sourceTensor.clone().detach() or sourceTensor.clone().detach().requires_grad_(True), rather than torch.tensor(sourceTensor).\n",
            "  \n"
          ]
        }
      ]
    },
    {
      "cell_type": "code",
      "source": [
        "# check weights\n",
        "model = Network2()\n",
        "model.load_state_dict(torch.load(\"./network2_32_simple\"))\n",
        "model.eval()\n",
        "\n",
        "print(model.input1.weight)\n",
        "print(model.input2.weight)\n"
      ],
      "metadata": {
        "id": "eAVxXWVj8YLc"
      },
      "execution_count": null,
      "outputs": []
    }
  ]
}